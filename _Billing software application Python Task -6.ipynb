{
 "cells": [
  {
   "cell_type": "markdown",
   "id": "44f0f401-b824-4f03-8348-d9d9150c2c97",
   "metadata": {},
   "source": [
    "# Import Necessary Libraries"
   ]
  },
  {
   "cell_type": "code",
   "execution_count": 1,
   "id": "73c197c7-dfcd-4b21-8b64-4904576d4047",
   "metadata": {},
   "outputs": [],
   "source": [
    "import tkinter as tk\n",
    "from tkinter import messagebox\n",
    "import sqlite3\n",
    "from PIL import Image, ImageTk"
   ]
  },
  {
   "cell_type": "markdown",
   "id": "16f67cf3-8143-48d7-b45b-47f086ea280e",
   "metadata": {},
   "source": [
    "# Database Design"
   ]
  },
  {
   "cell_type": "code",
   "execution_count": 2,
   "id": "289f81d6-019c-47fc-8ed0-752bcc278181",
   "metadata": {},
   "outputs": [],
   "source": [
    "# Connect to the database or create it if it doesn't exist\n",
    "conn = sqlite3.connect('billing.db')\n",
    "\n",
    "# Create a cursor object\n",
    "c = conn.cursor()\n",
    "\n",
    "# Create tables for products, customers, and transactions\n",
    "c.execute('''CREATE TABLE IF NOT EXISTS products (\n",
    "                id INTEGER PRIMARY KEY,\n",
    "                name TEXT NOT NULL,\n",
    "                price REAL NOT NULL)''')\n",
    "\n",
    "c.execute('''CREATE TABLE IF NOT EXISTS customers (\n",
    "                id INTEGER PRIMARY KEY,\n",
    "                name TEXT NOT NULL,\n",
    "                phone TEXT NOT NULL)''')\n",
    "\n",
    "c.execute('''CREATE TABLE IF NOT EXISTS transactions (\n",
    "                id INTEGER PRIMARY KEY,\n",
    "                customer_id INTEGER,\n",
    "                product_id INTEGER,\n",
    "                quantity INTEGER,\n",
    "                date TEXT,\n",
    "                FOREIGN KEY(customer_id) REFERENCES customers(id),\n",
    "                FOREIGN KEY(product_id) REFERENCES products(id))''')\n",
    "\n",
    "# Commit changes and close the connection\n",
    "conn.commit()\n",
    "conn.close()\n"
   ]
  },
  {
   "cell_type": "markdown",
   "id": "d63804f6-d437-4f99-9e92-29c72130e893",
   "metadata": {},
   "source": [
    "# GUI Design and Development"
   ]
  },
  {
   "cell_type": "code",
   "execution_count": 3,
   "id": "3bb522d4-532c-403d-b74f-d898de036b22",
   "metadata": {},
   "outputs": [],
   "source": [
    "# Create the main application window\n",
    "root = tk.Tk()\n",
    "root.title(\"Billing Software\")\n",
    "root.geometry(\"600x400\")\n",
    "\n",
    "# Create a frame for product entry\n",
    "product_frame = tk.Frame(root)\n",
    "product_frame.pack(pady=20)\n",
    "\n",
    "# Create Labels and Entries for product details\n",
    "tk.Label(product_frame, text=\"Product Name\").grid(row=0, column=0)\n",
    "product_name = tk.Entry(product_frame)\n",
    "product_name.grid(row=0, column=1)\n",
    "\n",
    "tk.Label(product_frame, text=\"Product Price\").grid(row=1, column=0)\n",
    "product_price = tk.Entry(product_frame)\n",
    "product_price.grid(row=1, column=1)\n",
    "\n",
    "# Button to add product to the database\n",
    "def add_product():\n",
    "    conn = sqlite3.connect('billing.db')\n",
    "    c = conn.cursor()\n",
    "    c.execute(\"INSERT INTO products (name, price) VALUES (?, ?)\",\n",
    "              (product_name.get(), product_price.get()))\n",
    "    conn.commit()\n",
    "    conn.close()\n",
    "    messagebox.showinfo(\"Success\", \"Product added successfully!\")\n",
    "\n",
    "tk.Button(product_frame, text=\"Add Product\", command=add_product).grid(row=2, column=0, columnspan=2, pady=10)\n"
   ]
  },
  {
   "cell_type": "markdown",
   "id": "a0d5ef17-ad8d-4c8e-a7c2-4674f9dba10e",
   "metadata": {},
   "source": [
    "# Implementing Customer and Transaction Forms"
   ]
  },
  {
   "cell_type": "code",
   "execution_count": 4,
   "id": "8e72690a-71b9-4a7d-a483-4e22fcaf650e",
   "metadata": {},
   "outputs": [],
   "source": [
    "# Create a frame for customer entry\n",
    "customer_frame = tk.Frame(root)\n",
    "customer_frame.pack(pady=20)\n",
    "\n",
    "tk.Label(customer_frame, text=\"Customer Name\").grid(row=0, column=0)\n",
    "customer_name = tk.Entry(customer_frame)\n",
    "customer_name.grid(row=0, column=1)\n",
    "\n",
    "tk.Label(customer_frame, text=\"Customer Phone\").grid(row=1, column=0)\n",
    "customer_phone = tk.Entry(customer_frame)\n",
    "customer_phone.grid(row=1, column=1)\n",
    "\n",
    "# Button to add customer to the database\n",
    "def add_customer():\n",
    "    conn = sqlite3.connect('billing.db')\n",
    "    c = conn.cursor()\n",
    "    c.execute(\"INSERT INTO customers (name, phone) VALUES (?, ?)\",\n",
    "              (customer_name.get(), customer_phone.get()))\n",
    "    conn.commit()\n",
    "    conn.close()\n",
    "    messagebox.showinfo(\"Success\", \"Customer added successfully!\")\n",
    "\n",
    "tk.Button(customer_frame, text=\"Add Customer\", command=add_customer).grid(row=2, column=0, columnspan=2, pady=10)\n"
   ]
  },
  {
   "cell_type": "markdown",
   "id": "ecfda099-f579-42f7-b618-42a5cba7020d",
   "metadata": {},
   "source": [
    "# Creating and Printing Bills"
   ]
  },
  {
   "cell_type": "code",
   "execution_count": null,
   "id": "3c30c4bb-764b-4f50-97fa-32a90abf992e",
   "metadata": {},
   "outputs": [],
   "source": [
    "# Function to create and print the bill\n",
    "def generate_bill():\n",
    "    # Code to fetch details, calculate total, and print the bill\n",
    "    pass\n",
    "\n",
    "# Add a button to generate the bill\n",
    "tk.Button(root, text=\"Generate Bill\", command=generate_bill).pack(pady=20)\n",
    "\n",
    "# Start the main loop\n",
    "root.mainloop()\n"
   ]
  },
  {
   "cell_type": "code",
   "execution_count": null,
   "id": "229978a4-aaf2-4fc6-8724-8287c7369138",
   "metadata": {},
   "outputs": [],
   "source": []
  }
 ],
 "metadata": {
  "kernelspec": {
   "display_name": "Python 3 (ipykernel)",
   "language": "python",
   "name": "python3"
  },
  "language_info": {
   "codemirror_mode": {
    "name": "ipython",
    "version": 3
   },
   "file_extension": ".py",
   "mimetype": "text/x-python",
   "name": "python",
   "nbconvert_exporter": "python",
   "pygments_lexer": "ipython3",
   "version": "3.11.7"
  }
 },
 "nbformat": 4,
 "nbformat_minor": 5
}
